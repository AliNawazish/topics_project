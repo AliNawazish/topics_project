{
  "nbformat": 4,
  "nbformat_minor": 0,
  "metadata": {
    "colab": {
      "name": "novelty_detector.ipynb",
      "provenance": [],
      "collapsed_sections": []
    },
    "kernelspec": {
      "name": "python3",
      "display_name": "Python 3"
    }
  },
  "cells": [
    {
      "cell_type": "code",
      "metadata": {
        "id": "iRiR5xH_hO9C",
        "colab_type": "code",
        "outputId": "100abd78-33e7-4c4d-eddd-13b1cdc77a00",
        "colab": {
          "base_uri": "https://localhost:8080/",
          "height": 122
        }
      },
      "source": [
        "# For connection with google drive\n",
        "from google.colab import drive\n",
        "drive.mount('/content/drive/')"
      ],
      "execution_count": 0,
      "outputs": [
        {
          "output_type": "stream",
          "text": [
            "Go to this URL in a browser: https://accounts.google.com/o/oauth2/auth?client_id=947318989803-6bn6qk8qdgf4n4g3pfee6491hc0brc4i.apps.googleusercontent.com&redirect_uri=urn%3aietf%3awg%3aoauth%3a2.0%3aoob&response_type=code&scope=email%20https%3a%2f%2fwww.googleapis.com%2fauth%2fdocs.test%20https%3a%2f%2fwww.googleapis.com%2fauth%2fdrive%20https%3a%2f%2fwww.googleapis.com%2fauth%2fdrive.photos.readonly%20https%3a%2f%2fwww.googleapis.com%2fauth%2fpeopleapi.readonly\n",
            "\n",
            "Enter your authorization code:\n",
            "··········\n",
            "Mounted at /content/drive/\n"
          ],
          "name": "stdout"
        }
      ]
    },
    {
      "cell_type": "code",
      "metadata": {
        "id": "xvU2pV73hR_a",
        "colab_type": "code",
        "colab": {}
      },
      "source": [
        "import tensorflow.python.keras\n",
        "from tensorflow.python.keras.layers import Dense, Activation, Dropout, Flatten, Conv2D, MaxPooling2D, Reshape, UpSampling2D, Conv2DTranspose, Input\n",
        "from tensorflow.python.keras.layers.normalization import BatchNormalization\n",
        "from tensorflow.python.keras.models import Model, Sequential\n",
        "from tensorflow.python.keras.preprocessing import image\n",
        "from tensorflow.python.keras.models import load_model\n",
        "from tensorflow.python.keras import regularizers\n",
        "import numpy as np\n",
        "from matplotlib import pyplot as plt\n",
        "import glob\n",
        "np.random.seed(1000)\n",
        "\n",
        "tensorflow.compat.v1.disable_eager_execution()"
      ],
      "execution_count": 0,
      "outputs": []
    },
    {
      "cell_type": "code",
      "metadata": {
        "id": "CzQ_sjVoTYTO",
        "colab_type": "code",
        "colab": {}
      },
      "source": [
        "# Pretrained model\n",
        "\n",
        "# model.save('drive/My Drive/novelty_detector.h5')\n",
        "# model = load_model('drive/My Drive/novelty_detector.h5')"
      ],
      "execution_count": 0,
      "outputs": []
    },
    {
      "cell_type": "code",
      "metadata": {
        "id": "0eWiUUKhhdsj",
        "colab_type": "code",
        "colab": {}
      },
      "source": [
        "# CNN-AE for novelty detection\n",
        "\n",
        "keep_prob = 0.8\n",
        "input_img = Input(shape=(16, 16, 1))\n",
        "\n",
        "#Layer 1\n",
        "\n",
        "x = Conv2D(16, (3, 3), activation='relu', padding='same')(input_img)\n",
        "x = Conv2D(16, (3, 3), activation='relu', padding='same')(x)\n",
        "x = MaxPooling2D((2, 2))(x)\n",
        "x = Conv2D(8, (3, 3), activation='relu', padding='same')(x)\n",
        "x = Conv2D(8, (3, 3), activation='relu', padding='same')(x)\n",
        "x = MaxPooling2D((2, 2))(x)\n",
        "x = Conv2D(4, (3, 3), activation='relu', padding='same', activity_regularizer=regularizers.l1(10e-5))(x)\n",
        "encoded = MaxPooling2D((2, 2))(x)\n",
        "\n",
        "\n",
        "x = UpSampling2D((2, 2))(encoded)\n",
        "x = Conv2DTranspose(8, (3, 3), activation='relu', padding='same')(x)\n",
        "x = Conv2DTranspose(8, (3, 3), activation='relu', padding='same')(x)\n",
        "x = UpSampling2D((2, 2))(x)\n",
        "x = Conv2DTranspose(16, (3, 3), activation='relu', padding='same')(x)\n",
        "x = Conv2DTranspose(16, (3, 3), activation='relu', padding='same')(x)\n",
        "x = UpSampling2D((2, 2))(x)\n",
        "decoded = Conv2DTranspose(1, (3, 3), activation='sigmoid', padding='same')(x)\n",
        "\n"
      ],
      "execution_count": 0,
      "outputs": []
    },
    {
      "cell_type": "code",
      "metadata": {
        "id": "rUjbMWYVlj_0",
        "colab_type": "code",
        "colab": {}
      },
      "source": [
        "# CNN-AE for clustering\n",
        "\n",
        "keep_prob = 0.8\n",
        "input_img = Input(shape=(16, 16, 1))\n",
        "\n",
        "#Layer 1\n",
        "\n",
        "x = Conv2D(16, (3, 3), activation='relu', padding='same')(input_img)\n",
        "x = Conv2D(16, (3, 3), activation='relu', padding='same')(x)\n",
        "x = MaxPooling2D((2, 2))(x)\n",
        "x = Conv2D(8, (3, 3), activation='relu', padding='same')(x)\n",
        "x = Conv2D(8, (3, 3), activation='relu', padding='same')(x)\n",
        "x = MaxPooling2D((2, 2))(x)\n",
        "x = Conv2D(4, (3, 3), activation='relu', padding='same')(x)\n",
        "x = Conv2D(2, (3, 3), activation='relu', padding='same', activity_regularizer=regularizers.l1(10e-5))(x)\n",
        "x = MaxPooling2D((2, 2))(x)\n",
        "encoded = MaxPooling2D((2, 2))(x)\n",
        "\n",
        "\n",
        "x = UpSampling2D((2, 2))(encoded)\n",
        "x = UpSampling2D((2, 2))(x)\n",
        "x = Conv2DTranspose(8, (3, 3), activation='relu', padding='same')(x)\n",
        "x = Conv2DTranspose(8, (3, 3), activation='relu', padding='same')(x)\n",
        "x = UpSampling2D((2, 2))(x)\n",
        "x = Conv2DTranspose(16, (3, 3), activation='relu', padding='same')(x)\n",
        "x = Conv2DTranspose(16, (3, 3), activation='relu', padding='same')(x)\n",
        "x = UpSampling2D((2, 2))(x)\n",
        "decoded = Conv2DTranspose(1, (3, 3), activation='sigmoid', padding='same')(x)\n",
        "\n"
      ],
      "execution_count": 0,
      "outputs": []
    },
    {
      "cell_type": "code",
      "metadata": {
        "id": "F33HGJk4i2_r",
        "colab_type": "code",
        "outputId": "9e2ea94e-338f-4cfe-a8fa-fb522f127ad0",
        "colab": {
          "base_uri": "https://localhost:8080/",
          "height": 833
        }
      },
      "source": [
        "model = Model(input_img, decoded)\n",
        "\n",
        "opt = tensorflow.python.keras.optimizers.Adadelta(lr=0.5, rho=0.95)\n",
        "model.compile(optimizer=opt, loss='mse')\n",
        "model.summary()"
      ],
      "execution_count": 0,
      "outputs": [
        {
          "output_type": "stream",
          "text": [
            "Model: \"model_7\"\n",
            "_________________________________________________________________\n",
            "Layer (type)                 Output Shape              Param #   \n",
            "=================================================================\n",
            "input_9 (InputLayer)         [(None, 16, 16, 1)]       0         \n",
            "_________________________________________________________________\n",
            "conv2d_46 (Conv2D)           (None, 16, 16, 16)        160       \n",
            "_________________________________________________________________\n",
            "conv2d_47 (Conv2D)           (None, 16, 16, 16)        2320      \n",
            "_________________________________________________________________\n",
            "max_pooling2d_28 (MaxPooling (None, 8, 8, 16)          0         \n",
            "_________________________________________________________________\n",
            "conv2d_48 (Conv2D)           (None, 8, 8, 8)           1160      \n",
            "_________________________________________________________________\n",
            "conv2d_49 (Conv2D)           (None, 8, 8, 8)           584       \n",
            "_________________________________________________________________\n",
            "max_pooling2d_29 (MaxPooling (None, 4, 4, 8)           0         \n",
            "_________________________________________________________________\n",
            "conv2d_50 (Conv2D)           (None, 4, 4, 4)           292       \n",
            "_________________________________________________________________\n",
            "conv2d_51 (Conv2D)           (None, 4, 4, 2)           74        \n",
            "_________________________________________________________________\n",
            "max_pooling2d_30 (MaxPooling (None, 2, 2, 2)           0         \n",
            "_________________________________________________________________\n",
            "max_pooling2d_31 (MaxPooling (None, 1, 1, 2)           0         \n",
            "_________________________________________________________________\n",
            "up_sampling2d_26 (UpSampling (None, 2, 2, 2)           0         \n",
            "_________________________________________________________________\n",
            "up_sampling2d_27 (UpSampling (None, 4, 4, 2)           0         \n",
            "_________________________________________________________________\n",
            "conv2d_transpose_40 (Conv2DT (None, 4, 4, 8)           152       \n",
            "_________________________________________________________________\n",
            "conv2d_transpose_41 (Conv2DT (None, 4, 4, 8)           584       \n",
            "_________________________________________________________________\n",
            "up_sampling2d_28 (UpSampling (None, 8, 8, 8)           0         \n",
            "_________________________________________________________________\n",
            "conv2d_transpose_42 (Conv2DT (None, 8, 8, 16)          1168      \n",
            "_________________________________________________________________\n",
            "conv2d_transpose_43 (Conv2DT (None, 8, 8, 16)          2320      \n",
            "_________________________________________________________________\n",
            "up_sampling2d_29 (UpSampling (None, 16, 16, 16)        0         \n",
            "_________________________________________________________________\n",
            "conv2d_transpose_44 (Conv2DT (None, 16, 16, 1)         145       \n",
            "=================================================================\n",
            "Total params: 8,959\n",
            "Trainable params: 8,959\n",
            "Non-trainable params: 0\n",
            "_________________________________________________________________\n"
          ],
          "name": "stdout"
        }
      ]
    },
    {
      "cell_type": "code",
      "metadata": {
        "id": "eJrwtiuui8r-",
        "colab_type": "code",
        "colab": {}
      },
      "source": [
        "# Load samples for training \n",
        "\n",
        "train_images = []\n",
        "count = 1\n",
        "images = glob.glob(\"drive/My Drive/messages/train/c/*.png\", recursive=True)\n",
        "for i in range(0, len(images)):\n",
        "    test_image = image.load_img(images[i], target_size = (16, 16), color_mode=\"grayscale\")\n",
        "    test_image = image.img_to_array(test_image)\n",
        "    test_image = np.expand_dims(test_image, axis = 0)\n",
        "    # test_image = preprocess_input(test_image)\n",
        "    train_images.append(test_image.astype('float32') / 255)\n",
        "    # print(count)\n",
        "    count += 1"
      ],
      "execution_count": 0,
      "outputs": []
    },
    {
      "cell_type": "code",
      "metadata": {
        "id": "g1F4_Dd4LJET",
        "colab_type": "code",
        "outputId": "95722147-7e84-42fe-a8e9-0077e732369d",
        "colab": {
          "base_uri": "https://localhost:8080/",
          "height": 34
        }
      },
      "source": [
        "# Load samples for validation\n",
        "\n",
        "val_images = []\n",
        "count = 1\n",
        "images = glob.glob(\"drive/My Drive/messages/val/c/*.png\", recursive=True)\n",
        "for i in range(0, len(images)):\n",
        "    test_image = image.load_img(images[i], target_size = (16, 16), color_mode=\"grayscale\")\n",
        "    test_image = image.img_to_array(test_image)\n",
        "    test_image = np.expand_dims(test_image, axis = 0)\n",
        "    # test_image = preprocess_input(test_image)\n",
        "    val_images.append(test_image.astype('float32') / 255)\n",
        "    # print(count)\n",
        "    count += 1\n",
        "print(len(val_images))"
      ],
      "execution_count": 0,
      "outputs": [
        {
          "output_type": "stream",
          "text": [
            "292\n"
          ],
          "name": "stdout"
        }
      ]
    },
    {
      "cell_type": "code",
      "metadata": {
        "id": "ul_ihxSQAhYc",
        "colab_type": "code",
        "outputId": "a77dc810-63ad-428d-ef53-c827e8dd08ed",
        "colab": {
          "base_uri": "https://localhost:8080/",
          "height": 34
        }
      },
      "source": [
        "x_train = np.vstack(train_images)\n",
        "print(x_train.shape)"
      ],
      "execution_count": 0,
      "outputs": [
        {
          "output_type": "stream",
          "text": [
            "(1365, 16, 16, 1)\n"
          ],
          "name": "stdout"
        }
      ]
    },
    {
      "cell_type": "code",
      "metadata": {
        "id": "S97E6laFLyUY",
        "colab_type": "code",
        "outputId": "1fb5f6d6-6a94-4983-8734-ef553162bc16",
        "colab": {
          "base_uri": "https://localhost:8080/",
          "height": 34
        }
      },
      "source": [
        "x_val = np.vstack(val_images)\n",
        "print(x_val.shape)"
      ],
      "execution_count": 0,
      "outputs": [
        {
          "output_type": "stream",
          "text": [
            "(292, 16, 16, 1)\n"
          ],
          "name": "stdout"
        }
      ]
    },
    {
      "cell_type": "code",
      "metadata": {
        "id": "bxBGPGcvu4zk",
        "colab_type": "code",
        "outputId": "8956a149-9fe6-4918-8c5b-406e1095178f",
        "colab": {
          "base_uri": "https://localhost:8080/",
          "height": 731
        }
      },
      "source": [
        "#Training\n",
        "model.fit(x_train, x_train,\n",
        "                epochs=20,\n",
        "                batch_size=8,\n",
        "                validation_data=(x_val, x_val))\n",
        "# result = model.fit(train_it, steps_per_epoch=16, epochs=50, validation_data=val_it, validation_steps=8)"
      ],
      "execution_count": 0,
      "outputs": [
        {
          "output_type": "stream",
          "text": [
            "Train on 1365 samples, validate on 292 samples\n",
            "Epoch 1/20\n",
            "1365/1365 [==============================] - 2s 1ms/sample - loss: 0.1098 - val_loss: 0.0983\n",
            "Epoch 2/20\n",
            "1365/1365 [==============================] - 2s 1ms/sample - loss: 0.0667 - val_loss: 0.0366\n",
            "Epoch 3/20\n",
            "1365/1365 [==============================] - 2s 1ms/sample - loss: 0.0229 - val_loss: 0.0142\n",
            "Epoch 4/20\n",
            "1365/1365 [==============================] - 2s 1ms/sample - loss: 0.0132 - val_loss: 0.0132\n",
            "Epoch 5/20\n",
            "1365/1365 [==============================] - 2s 1ms/sample - loss: 0.0103 - val_loss: 0.0092\n",
            "Epoch 6/20\n",
            "1365/1365 [==============================] - 2s 1ms/sample - loss: 0.0093 - val_loss: 0.0085\n",
            "Epoch 7/20\n",
            "1365/1365 [==============================] - 2s 1ms/sample - loss: 0.0088 - val_loss: 0.0083\n",
            "Epoch 8/20\n",
            "1365/1365 [==============================] - 2s 1ms/sample - loss: 0.0084 - val_loss: 0.0082\n",
            "Epoch 9/20\n",
            "1365/1365 [==============================] - 2s 1ms/sample - loss: 0.0081 - val_loss: 0.0076\n",
            "Epoch 10/20\n",
            "1365/1365 [==============================] - 2s 1ms/sample - loss: 0.0079 - val_loss: 0.0076\n",
            "Epoch 11/20\n",
            "1365/1365 [==============================] - 2s 1ms/sample - loss: 0.0077 - val_loss: 0.0074\n",
            "Epoch 12/20\n",
            "1365/1365 [==============================] - 2s 1ms/sample - loss: 0.0076 - val_loss: 0.0074\n",
            "Epoch 13/20\n",
            "1365/1365 [==============================] - 2s 1ms/sample - loss: 0.0074 - val_loss: 0.0073\n",
            "Epoch 14/20\n",
            "1365/1365 [==============================] - 2s 1ms/sample - loss: 0.0074 - val_loss: 0.0072\n",
            "Epoch 15/20\n",
            "1365/1365 [==============================] - 2s 1ms/sample - loss: 0.0073 - val_loss: 0.0069\n",
            "Epoch 16/20\n",
            "1365/1365 [==============================] - 2s 1ms/sample - loss: 0.0072 - val_loss: 0.0075\n",
            "Epoch 17/20\n",
            "1365/1365 [==============================] - 2s 1ms/sample - loss: 0.0071 - val_loss: 0.0068\n",
            "Epoch 18/20\n",
            "1365/1365 [==============================] - 2s 1ms/sample - loss: 0.0071 - val_loss: 0.0073\n",
            "Epoch 19/20\n",
            "1365/1365 [==============================] - 2s 1ms/sample - loss: 0.0070 - val_loss: 0.0071\n",
            "Epoch 20/20\n",
            "1365/1365 [==============================] - 2s 1ms/sample - loss: 0.0069 - val_loss: 0.0070\n"
          ],
          "name": "stdout"
        },
        {
          "output_type": "execute_result",
          "data": {
            "text/plain": [
              "<tensorflow.python.keras.callbacks.History at 0x7f182d3c6be0>"
            ]
          },
          "metadata": {
            "tags": []
          },
          "execution_count": 18
        }
      ]
    },
    {
      "cell_type": "code",
      "metadata": {
        "id": "QwvDiOYSu-iz",
        "colab_type": "code",
        "colab": {}
      },
      "source": [
        "# Prediction\n",
        "predict_images = []\n",
        "\n",
        "# test_image = image.load_img(\"drive/My Drive/messages/test/a/901.png\", target_size = (16, 16), color_mode=\"grayscale\")\n",
        "# test_image = image.load_img(\"drive/My Drive/messages/test/b/1661.png\", target_size = (16, 16), color_mode=\"grayscale\")\n",
        "# test_image = image.load_img(\"drive/My Drive/messages/test/c/1670.png\", target_size = (16, 16), color_mode=\"grayscale\")\n",
        "# test_image = image.load_img(\"drive/My Drive/messages/test/d/1668.png\", target_size = (16, 16), color_mode=\"grayscale\")\n",
        "# test_image = image.load_img(\"drive/My Drive/test_img.png\", target_size = (16, 16), color_mode=\"grayscale\")\n",
        "# test_image = image.load_img(\"drive/My Drive/iconfinder_Apply_132742.png\", target_size = (16, 16), color_mode=\"grayscale\")\n",
        "# test_image = image.load_img(\"drive/My Drive/iconfinder_Radiation_132691.png\", target_size = (16, 16), color_mode=\"grayscale\")\n",
        "\n",
        "# test_image = image.load_img(\"drive/My Drive/labeled/train/normal/1.png\", target_size = (16, 16), color_mode=\"grayscale\")\n",
        "# test_image = image.load_img(\"drive/My Drive/labeled/train/malicious/1.png\", target_size = (16, 16), color_mode=\"grayscale\")\n",
        "\n",
        "# test_image = image.load_img(\"drive/My Drive/three_values.png\", target_size = (16, 16), color_mode=\"grayscale\")\n",
        "test_image = image.load_img(\"drive/My Drive/message_swapped.png\", target_size = (16, 16), color_mode=\"grayscale\")\n",
        "\n",
        "test_image = image.img_to_array(test_image)\n",
        "test_image = np.expand_dims(test_image, axis = 0)\n",
        "normalized = test_image.astype('float32') / 255\n",
        "predict_images.append(normalized)\n",
        "\n",
        "test_images = np.vstack(predict_images)\n",
        "\n",
        "decoded_img = model.predict(test_images)\n"
      ],
      "execution_count": 0,
      "outputs": []
    },
    {
      "cell_type": "code",
      "metadata": {
        "id": "dp8OCyy2gwz2",
        "colab_type": "code",
        "outputId": "d3101060-eb5c-4260-c615-8aef6aea29f7",
        "colab": {
          "base_uri": "https://localhost:8080/",
          "height": 1000
        }
      },
      "source": [
        "import seaborn as sb\n",
        "from matplotlib.colors import ListedColormap\n",
        "from scipy.spatial.distance import cdist\n",
        "from skimage.metrics import structural_similarity as ssim\n",
        "\n",
        "img1 = normalized.reshape((16,16))\n",
        "img2 = decoded_img.reshape((16,16))\n",
        "\n",
        "plt.imshow(img1, cmap='gray')\n",
        "plt.axis('off')\n",
        "plt.show()\n",
        "plt.imshow(img2, cmap='gray')\n",
        "plt.axis('off')\n",
        "plt.show()\n",
        "\n",
        "plt.figure(figsize=(6,5))\n",
        "heat_map = sb.heatmap(np.square(img1-img2))\n",
        "plt.axis('off')\n",
        "plt.show()\n",
        "\n",
        "mse = np.square(img1-img2).mean()\n",
        "print(\"MSE Error: {0:.3f}\".format(mse))\n",
        "\n",
        "print(\"Cosine Similarity: {0:.3f}\".format(cdist(img1.reshape(1, -1), img2.reshape(1, -1), 'cosine').ravel()[0]))\n",
        "print(\"Structural similarity index: {0:.3f}\".format(1 - ssim(img1, img2, data_range=img1.max() - img2.min())))\n",
        "print(\"Minkowski: {0:.3f}\".format(cdist(img1.reshape(1, -1), img2.reshape(1, -1), 'minkowski', p=100).ravel()[0]))\n",
        "\n",
        "for i in range(10):\n",
        "  print(\"{0:.3f}\".format(cdist(img1.reshape(1, -1), img2.reshape(1, -1), 'minkowski', p=i+1).ravel()[0]))\n",
        "  # print(\"P = {0} : {1:.3f}\".format(i+1, cdist(img1.reshape(1, -1), img2.reshape(1, -1), 'minkowski', p=i+1).ravel()[0]))"
      ],
      "execution_count": 0,
      "outputs": [
        {
          "output_type": "stream",
          "text": [
            "/usr/local/lib/python3.6/dist-packages/statsmodels/tools/_testing.py:19: FutureWarning: pandas.util.testing is deprecated. Use the functions in the public API at pandas.testing instead.\n",
            "  import pandas.util.testing as tm\n"
          ],
          "name": "stderr"
        },
        {
          "output_type": "display_data",
          "data": {
            "image/png": "[encoded data removed]",
            "text/plain": [
              "<Figure size 432x288 with 1 Axes>"
            ]
          },
          "metadata": {
            "tags": [],
            "needs_background": "light"
          }
        },
        {
          "output_type": "display_data",
          "data": {
            "image/png": "[encoded data removed]",
            "text/plain": [
              "<Figure size 432x288 with 1 Axes>"
            ]
          },
          "metadata": {
            "tags": [],
            "needs_background": "light"
          }
        },
        {
          "output_type": "display_data",
          "data": {
            "image/png": "[encoded data removed]",
            "text/plain": [
              "<Figure size 432x360 with 2 Axes>"
            ]
          },
          "metadata": {
            "tags": [],
            "needs_background": "light"
          }
        },
        {
          "output_type": "stream",
          "text": [
            "MSE Error: 0.035\n",
            "Cosine Similarity: 0.072\n",
            "Structural similarity index: 0.209\n",
            "Minkowski: 0.913\n",
            "21.190\n",
            "2.995\n",
            "1.783\n",
            "1.418\n",
            "1.251\n",
            "1.159\n",
            "1.101\n",
            "1.062\n",
            "1.035\n",
            "1.014\n"
          ],
          "name": "stdout"
        }
      ]
    },
    {
      "cell_type": "code",
      "metadata": {
        "id": "2criUybYhyQ-",
        "colab_type": "code",
        "outputId": "e9673f2b-5d8e-4a62-dfbf-4f6732f72537",
        "colab": {
          "base_uri": "https://localhost:8080/",
          "height": 534
        }
      },
      "source": [
        "mal_image = image.load_img(\"drive/My Drive/labeled/train/normal/1.png\", target_size = (16, 16), color_mode=\"grayscale\")\n",
        "# mal_image = image.load_img(\"drive/My Drive/labeled/train/malicious/1.png\", target_size = (16, 16), color_mode=\"grayscale\")\n",
        "# mal_image = image.load_img(\"drive/My Drive/message_swapped.png\", target_size = (16, 16), color_mode=\"grayscale\")\n",
        "# mal_image = image.load_img(\"drive/My Drive/three_values.png\", target_size = (16, 16), color_mode=\"grayscale\")\n",
        "mal_image = image.img_to_array(mal_image).reshape((16,16))\n",
        "mal_image = mal_image.astype('float32') / 255\n",
        "\n",
        "nor_image = image.load_img(\"drive/My Drive/labeled/train/normal/1.png\", target_size = (16, 16), color_mode=\"grayscale\")\n",
        "nor_image = image.img_to_array(nor_image).reshape((16,16))\n",
        "nor_image = nor_image.astype('float32') / 255\n",
        "\n",
        "plt.figure(figsize=(6,5))\n",
        "heat_map = sb.heatmap(np.square(nor_image-mal_image))\n",
        "plt.axis('off')\n",
        "plt.show()\n",
        "\n",
        "mse = np.square(nor_image-mal_image).mean()\n",
        "print(\"MSE Error: {0:.3f}\".format(mse))\n",
        "\n",
        "print(\"Cosine Similarity: {0:.3f}\".format(1 - cdist(nor_image.reshape(1, -1), mal_image.reshape(1, -1), 'cosine').ravel()[0]))\n",
        "print(\"Structural similarity index: {0:.3f}\".format(ssim(nor_image, mal_image, data_range=nor_image.max() - mal_image.min())))\n",
        "\n",
        "for i in range(10):\n",
        "  print(\"P = {0} : {1:.3f}\".format(i+1, cdist(nor_image.reshape(1, -1), mal_image.reshape(1, -1), 'minkowski', p=i+1).ravel()[0]))"
      ],
      "execution_count": 0,
      "outputs": [
        {
          "output_type": "display_data",
          "data": {
            "image/png": "[encoded data removed]",
            "text/plain": [
              "<Figure size 432x360 with 2 Axes>"
            ]
          },
          "metadata": {
            "tags": [],
            "needs_background": "light"
          }
        },
        {
          "output_type": "stream",
          "text": [
            "MSE Error: 0.000\n",
            "Cosine Similarity: 1.000\n",
            "Structural similarity index: 1.000\n",
            "P = 1 : 0.000\n",
            "P = 2 : 0.000\n",
            "P = 3 : 0.000\n",
            "P = 4 : 0.000\n",
            "P = 5 : 0.000\n",
            "P = 6 : 0.000\n",
            "P = 7 : 0.000\n",
            "P = 8 : 0.000\n",
            "P = 9 : 0.000\n",
            "P = 10 : 0.000\n"
          ],
          "name": "stdout"
        }
      ]
    },
    {
      "cell_type": "code",
      "metadata": {
        "id": "xUIs9d65fxLE",
        "colab_type": "code",
        "outputId": "eba9ffa8-14a4-4d16-ca54-7e723db466a1",
        "colab": {
          "base_uri": "https://localhost:8080/",
          "height": 1000
        }
      },
      "source": [
        "import seaborn as sb\n",
        "from matplotlib.colors import ListedColormap\n",
        "from scipy.spatial.distance import cdist\n",
        "from skimage.metrics import structural_similarity as ssim\n",
        "\n",
        "# test_imgs = glob.glob(\"drive/My Drive/messages/test/c/*.png\", recursive=True)\n",
        "# test_imgs = glob.glob(\"drive/My Drive/malicious_data/two_values_swapped/*.png\", recursive=True)\n",
        "# test_imgs = glob.glob(\"drive/My Drive/malicious_data/three_values_swapped/*.png\", recursive=True)\n",
        "test_imgs = glob.glob(\"drive/My Drive/malicious_data/message_swapped/*.png\", recursive=True)\n",
        "\n",
        "for i in range(0, len(test_imgs)):\n",
        "  predict_images = []\n",
        "\n",
        "  test_image = image.load_img(test_imgs[i], target_size = (16, 16), color_mode=\"grayscale\")\n",
        "  test_image = image.img_to_array(test_image)\n",
        "  test_image = np.expand_dims(test_image, axis = 0)\n",
        "  normalized = test_image.astype('float32') / 255\n",
        "  predict_images.append(normalized)\n",
        "\n",
        "  test_images = np.vstack(predict_images)\n",
        "\n",
        "  decoded_img = model.predict(test_images)\n",
        "\n",
        "  img1 = normalized.reshape((16,16))\n",
        "  img2 = decoded_img.reshape((16,16))\n",
        "\n",
        "  # print(\"{0:.3f}\".format(1 - ssim(img1, img2, data_range=img1.max() - img2.min())))\n",
        "\n",
        "  # print(\"{0:.3f}\".format(cdist(img1.reshape(1, -1), img2.reshape(1, -1), 'cosine').ravel()[0]))\n",
        "\n",
        "  print(\"{0:.3f}\".format(cdist(img1.reshape(1, -1), img2.reshape(1, -1), 'minkowski', p=100).ravel()[0]))\n",
        "\n",
        "  # mse = np.square(img1-img2).mean()\n",
        "  # print(\"{0:.3f}\".format(mse))\n"
      ],
      "execution_count": 0,
      "outputs": [
        {
          "output_type": "stream",
          "text": [
            "0.887\n",
            "0.888\n",
            "0.887\n",
            "0.886\n",
            "0.890\n",
            "0.889\n",
            "0.886\n",
            "0.881\n",
            "0.880\n",
            "0.889\n",
            "0.890\n",
            "0.878\n",
            "0.889\n",
            "0.889\n",
            "0.889\n",
            "0.889\n",
            "0.889\n",
            "0.888\n",
            "0.886\n",
            "0.882\n",
            "0.887\n",
            "0.889\n",
            "0.890\n",
            "0.886\n",
            "0.886\n",
            "0.888\n",
            "0.888\n",
            "0.887\n",
            "0.888\n",
            "0.886\n",
            "0.888\n",
            "0.886\n",
            "0.888\n",
            "0.882\n",
            "0.889\n",
            "0.882\n",
            "0.888\n",
            "0.886\n",
            "0.886\n",
            "0.888\n",
            "0.890\n",
            "0.884\n",
            "0.886\n",
            "0.888\n",
            "0.886\n",
            "0.887\n",
            "0.890\n",
            "0.887\n",
            "0.890\n",
            "0.890\n",
            "0.883\n",
            "0.890\n",
            "0.888\n",
            "0.890\n",
            "0.887\n",
            "0.886\n",
            "0.889\n",
            "0.888\n",
            "0.889\n",
            "0.882\n",
            "0.891\n",
            "0.885\n",
            "0.887\n",
            "0.890\n",
            "0.889\n",
            "0.887\n",
            "0.887\n",
            "0.888\n",
            "0.889\n",
            "0.887\n",
            "0.890\n",
            "0.887\n",
            "0.879\n",
            "0.888\n",
            "0.882\n",
            "0.889\n",
            "0.885\n",
            "0.887\n",
            "0.882\n",
            "0.886\n",
            "0.883\n",
            "0.885\n",
            "0.890\n",
            "0.887\n",
            "0.885\n",
            "0.889\n",
            "0.886\n",
            "0.889\n",
            "0.889\n",
            "0.887\n",
            "0.889\n",
            "0.887\n",
            "0.886\n",
            "0.888\n",
            "0.888\n",
            "0.887\n",
            "0.890\n",
            "0.889\n",
            "0.888\n",
            "0.887\n",
            "0.886\n",
            "0.888\n",
            "0.880\n",
            "0.879\n",
            "0.890\n",
            "0.883\n",
            "0.889\n",
            "0.887\n",
            "0.888\n",
            "0.887\n",
            "0.889\n",
            "0.889\n",
            "0.886\n",
            "0.887\n",
            "0.889\n",
            "0.885\n",
            "0.886\n",
            "0.890\n",
            "0.889\n",
            "0.886\n",
            "0.889\n",
            "0.889\n",
            "0.888\n",
            "0.888\n",
            "0.887\n",
            "0.884\n",
            "0.888\n",
            "0.888\n",
            "0.885\n",
            "0.889\n",
            "0.888\n",
            "0.887\n",
            "0.887\n",
            "0.886\n",
            "0.889\n",
            "0.889\n",
            "0.890\n",
            "0.888\n",
            "0.886\n",
            "0.886\n",
            "0.887\n",
            "0.889\n",
            "0.888\n",
            "0.889\n",
            "0.886\n",
            "0.882\n",
            "0.890\n",
            "0.886\n",
            "0.885\n",
            "0.887\n",
            "0.889\n",
            "0.885\n",
            "0.890\n",
            "0.887\n",
            "0.887\n",
            "0.890\n",
            "0.887\n",
            "0.888\n",
            "0.885\n",
            "0.890\n",
            "0.889\n",
            "0.885\n",
            "0.889\n",
            "0.888\n",
            "0.887\n",
            "0.886\n",
            "0.886\n",
            "0.886\n",
            "0.887\n",
            "0.887\n",
            "0.882\n",
            "0.881\n",
            "0.889\n",
            "0.887\n",
            "0.890\n",
            "0.886\n",
            "0.887\n",
            "0.889\n",
            "0.888\n",
            "0.889\n",
            "0.888\n",
            "0.886\n",
            "0.890\n",
            "0.887\n",
            "0.885\n",
            "0.888\n",
            "0.885\n",
            "0.888\n",
            "0.882\n",
            "0.885\n",
            "0.889\n",
            "0.886\n",
            "0.888\n",
            "0.889\n",
            "0.888\n",
            "0.890\n",
            "0.885\n",
            "0.885\n",
            "0.890\n",
            "0.882\n",
            "0.889\n",
            "0.883\n",
            "0.887\n",
            "0.887\n",
            "0.886\n",
            "0.887\n",
            "0.889\n",
            "0.888\n",
            "0.883\n",
            "0.889\n",
            "0.886\n",
            "0.887\n",
            "0.888\n",
            "0.884\n",
            "0.886\n",
            "0.887\n",
            "0.887\n",
            "0.890\n",
            "0.888\n",
            "0.887\n",
            "0.890\n",
            "0.890\n",
            "0.887\n",
            "0.886\n",
            "0.885\n",
            "0.886\n",
            "0.886\n",
            "0.888\n",
            "0.886\n",
            "0.890\n",
            "0.889\n",
            "0.886\n",
            "0.887\n",
            "0.889\n",
            "0.889\n",
            "0.889\n",
            "0.883\n",
            "0.890\n",
            "0.887\n",
            "0.888\n",
            "0.889\n",
            "0.885\n",
            "0.886\n",
            "0.882\n",
            "0.886\n",
            "0.890\n",
            "0.887\n",
            "0.888\n",
            "0.885\n",
            "0.886\n",
            "0.889\n",
            "0.879\n",
            "0.888\n",
            "0.882\n",
            "0.882\n",
            "0.885\n",
            "0.886\n",
            "0.881\n",
            "0.886\n",
            "0.890\n",
            "0.888\n",
            "0.889\n",
            "0.889\n",
            "0.888\n",
            "0.883\n",
            "0.889\n",
            "0.890\n",
            "0.887\n",
            "0.890\n",
            "0.889\n",
            "0.888\n",
            "0.887\n",
            "0.886\n",
            "0.888\n",
            "0.888\n",
            "0.885\n",
            "0.887\n",
            "0.885\n",
            "0.889\n",
            "0.889\n",
            "0.881\n",
            "0.889\n",
            "0.890\n",
            "0.887\n",
            "0.881\n",
            "0.889\n",
            "0.884\n",
            "0.886\n",
            "0.888\n",
            "0.888\n",
            "0.887\n",
            "0.889\n",
            "0.889\n"
          ],
          "name": "stdout"
        }
      ]
    }
  ]
}