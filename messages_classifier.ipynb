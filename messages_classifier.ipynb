{
  "nbformat": 4,
  "nbformat_minor": 0,
  "metadata": {
    "colab": {
      "name": "messages_classifier.ipynb",
      "provenance": []
    },
    "kernelspec": {
      "name": "python3",
      "display_name": "Python 3"
    }
  },
  "cells": [
    {
      "cell_type": "code",
      "metadata": {
        "id": "dRv8sAXngI38",
        "colab_type": "code",
        "outputId": "5c7b926a-96ae-4e72-8ba7-7547ad8286f6",
        "colab": {
          "base_uri": "https://localhost:8080/",
          "height": 34
        }
      },
      "source": [
        "# For connection with google drive\n",
        "from google.colab import drive\n",
        "drive.mount('/content/drive/')"
      ],
      "execution_count": 0,
      "outputs": [
        {
          "output_type": "stream",
          "text": [
            "Drive already mounted at /content/drive/; to attempt to forcibly remount, call drive.mount(\"/content/drive/\", force_remount=True).\n"
          ],
          "name": "stdout"
        }
      ]
    },
    {
      "cell_type": "code",
      "metadata": {
        "id": "G8pUgUwxtxAY",
        "colab_type": "code",
        "colab": {}
      },
      "source": [
        "import tensorflow.python.keras\n",
        "from tensorflow.python.keras.models import Sequential\n",
        "from tensorflow.python.keras.layers import Dense, Activation, Dropout, Flatten, Conv2D, MaxPooling2D\n",
        "from tensorflow.python.keras.layers.normalization import BatchNormalization\n",
        "import numpy as np\n",
        "np.random.seed(1000)"
      ],
      "execution_count": 0,
      "outputs": []
    },
    {
      "cell_type": "code",
      "metadata": {
        "id": "L7_mniXpt0uL",
        "colab_type": "code",
        "colab": {}
      },
      "source": [
        "keep_prob = 0.8\n",
        "model = Sequential()\n",
        "\n",
        "#Layer 1\n",
        "model.add(Conv2D(filters=2, kernel_size=(3,3), activation='relu', input_shape=(16,16, 1), strides=(1,1)))\n",
        "model.add(MaxPooling2D(pool_size=(2,2), strides=(1,1)))\n",
        "\n",
        "#Layer 2\n",
        "# model.add(Conv2D(filters=10, kernel_size=(3,3), activation='relu', strides=(1,1)))\n",
        "# model.add(MaxPooling2D(pool_size=(3,3), strides=(1,1)))\n",
        "\n",
        "model.add(Flatten())\n",
        "\n",
        "#FC layer 1\n",
        "model.add(Dense(32, activation='relu'))\n",
        "model.add(Dropout(rate=1-keep_prob))\n",
        "\n",
        "# # #FC layer 2\n",
        "# model.add(Dense(8, activation='relu'))\n",
        "# model.add(Dropout(rate=1-keep_prob))\n",
        "\n",
        "#Output\n",
        "model.add(Dense(2, activation='softmax'))"
      ],
      "execution_count": 0,
      "outputs": []
    },
    {
      "cell_type": "code",
      "metadata": {
        "id": "MupwZykrt75u",
        "colab_type": "code",
        "outputId": "8ba8b722-47ef-4a99-b467-f357e746e500",
        "colab": {
          "base_uri": "https://localhost:8080/",
          "height": 357
        }
      },
      "source": [
        "model.compile(optimizer='adam', loss='categorical_crossentropy', metrics=['acc'])\n",
        "model.summary()"
      ],
      "execution_count": 0,
      "outputs": [
        {
          "output_type": "stream",
          "text": [
            "Model: \"sequential_5\"\n",
            "_________________________________________________________________\n",
            "Layer (type)                 Output Shape              Param #   \n",
            "=================================================================\n",
            "conv2d_5 (Conv2D)            (None, 14, 14, 2)         20        \n",
            "_________________________________________________________________\n",
            "max_pooling2d_5 (MaxPooling2 (None, 13, 13, 2)         0         \n",
            "_________________________________________________________________\n",
            "flatten_5 (Flatten)          (None, 338)               0         \n",
            "_________________________________________________________________\n",
            "dense_10 (Dense)             (None, 32)                10848     \n",
            "_________________________________________________________________\n",
            "dropout_5 (Dropout)          (None, 32)                0         \n",
            "_________________________________________________________________\n",
            "dense_11 (Dense)             (None, 2)                 66        \n",
            "=================================================================\n",
            "Total params: 10,934\n",
            "Trainable params: 10,934\n",
            "Non-trainable params: 0\n",
            "_________________________________________________________________\n"
          ],
          "name": "stdout"
        }
      ]
    },
    {
      "cell_type": "code",
      "metadata": {
        "id": "u8qUyc-3t_Wl",
        "colab_type": "code",
        "outputId": "1a89f22b-b645-4f49-f5ee-0c70d0a673f2",
        "colab": {
          "base_uri": "https://localhost:8080/",
          "height": 68
        }
      },
      "source": [
        "from keras.preprocessing.image import ImageDataGenerator\n",
        "\n",
        "# create generator\n",
        "datagen = ImageDataGenerator()\n",
        "# prepare an iterators for each dataset\n",
        "train_it = datagen.flow_from_directory('drive/My Drive/labeled/train/', batch_size = 16, target_size = (16, 16), color_mode=\"grayscale\", class_mode = 'categorical')\n",
        "val_it = datagen.flow_from_directory('drive/My Drive/labeled/val/', batch_size = 16, target_size = (16, 16), color_mode=\"grayscale\", class_mode = 'categorical')\n",
        "test_it = datagen.flow_from_directory('drive/My Drive/labeled/test/', batch_size = 16, target_size = (16, 16), color_mode=\"grayscale\", class_mode = 'categorical')"
      ],
      "execution_count": 0,
      "outputs": [
        {
          "output_type": "stream",
          "text": [
            "Found 2730 images belonging to 2 classes.\n",
            "Found 584 images belonging to 2 classes.\n",
            "Found 586 images belonging to 2 classes.\n"
          ],
          "name": "stdout"
        }
      ]
    },
    {
      "cell_type": "code",
      "metadata": {
        "id": "yRRML_7OuBvo",
        "colab_type": "code",
        "outputId": "eea96763-aaa7-45cf-a6d4-c815da5af176",
        "colab": {
          "base_uri": "https://localhost:8080/",
          "height": 1000
        }
      },
      "source": [
        "#Training\n",
        "result = model.fit_generator(train_it, steps_per_epoch=16, epochs=100, validation_data=val_it, validation_steps=8)"
      ],
      "execution_count": 0,
      "outputs": [
        {
          "output_type": "stream",
          "text": [
            "Epoch 1/100\n",
            "16/16 [==============================] - 1s 37ms/step - loss: 23.0516 - acc: 0.5078 - val_loss: 0.9010 - val_acc: 0.7500\n",
            "Epoch 2/100\n",
            "16/16 [==============================] - 1s 32ms/step - loss: 7.2548 - acc: 0.5820 - val_loss: 2.5114 - val_acc: 0.5938\n",
            "Epoch 3/100\n",
            "16/16 [==============================] - 1s 32ms/step - loss: 3.5587 - acc: 0.5703 - val_loss: 0.5153 - val_acc: 0.8125\n",
            "Epoch 4/100\n",
            "16/16 [==============================] - 1s 32ms/step - loss: 0.8764 - acc: 0.6875 - val_loss: 0.2488 - val_acc: 0.9062\n",
            "Epoch 5/100\n",
            "16/16 [==============================] - 0s 31ms/step - loss: 0.4535 - acc: 0.7930 - val_loss: 0.1881 - val_acc: 0.9667\n",
            "Epoch 6/100\n",
            "16/16 [==============================] - 1s 31ms/step - loss: 0.3086 - acc: 0.8867 - val_loss: 0.2552 - val_acc: 0.9062\n",
            "Epoch 7/100\n",
            "16/16 [==============================] - 1s 32ms/step - loss: 0.2341 - acc: 0.8828 - val_loss: 0.1450 - val_acc: 0.9531\n",
            "Epoch 8/100\n",
            "16/16 [==============================] - 1s 31ms/step - loss: 0.2762 - acc: 0.8633 - val_loss: 0.1501 - val_acc: 0.9453\n",
            "Epoch 9/100\n",
            "16/16 [==============================] - 1s 32ms/step - loss: 0.2932 - acc: 0.8906 - val_loss: 0.1726 - val_acc: 0.9583\n",
            "Epoch 10/100\n",
            "16/16 [==============================] - 1s 32ms/step - loss: 0.2542 - acc: 0.8906 - val_loss: 0.1479 - val_acc: 0.9609\n",
            "Epoch 11/100\n",
            "16/16 [==============================] - 1s 32ms/step - loss: 0.2552 - acc: 0.8920 - val_loss: 0.2121 - val_acc: 0.9219\n",
            "Epoch 12/100\n",
            "16/16 [==============================] - 1s 32ms/step - loss: 0.2145 - acc: 0.9102 - val_loss: 0.1668 - val_acc: 0.9375\n",
            "Epoch 13/100\n",
            "16/16 [==============================] - 0s 31ms/step - loss: 0.2303 - acc: 0.9062 - val_loss: 0.1252 - val_acc: 0.9750\n",
            "Epoch 14/100\n",
            "16/16 [==============================] - 1s 31ms/step - loss: 0.2370 - acc: 0.9102 - val_loss: 0.0887 - val_acc: 0.9844\n",
            "Epoch 15/100\n",
            "16/16 [==============================] - 1s 32ms/step - loss: 0.3243 - acc: 0.8633 - val_loss: 0.3710 - val_acc: 0.8203\n",
            "Epoch 16/100\n",
            "16/16 [==============================] - 0s 31ms/step - loss: 0.2777 - acc: 0.8789 - val_loss: 0.1451 - val_acc: 0.9375\n",
            "Epoch 17/100\n",
            "16/16 [==============================] - 0s 31ms/step - loss: 0.2054 - acc: 0.9141 - val_loss: 0.1185 - val_acc: 0.9500\n",
            "Epoch 18/100\n",
            "16/16 [==============================] - 1s 31ms/step - loss: 0.2510 - acc: 0.8945 - val_loss: 0.1974 - val_acc: 0.8984\n",
            "Epoch 19/100\n",
            "16/16 [==============================] - 1s 31ms/step - loss: 0.2360 - acc: 0.8984 - val_loss: 0.1012 - val_acc: 0.9688\n",
            "Epoch 20/100\n",
            "16/16 [==============================] - 0s 31ms/step - loss: 0.2439 - acc: 0.9023 - val_loss: 0.1573 - val_acc: 0.9531\n",
            "Epoch 21/100\n",
            "16/16 [==============================] - 1s 31ms/step - loss: 0.1840 - acc: 0.9219 - val_loss: 0.0696 - val_acc: 0.9833\n",
            "Epoch 22/100\n",
            "16/16 [==============================] - 0s 31ms/step - loss: 0.2055 - acc: 0.9120 - val_loss: 0.0895 - val_acc: 0.9844\n",
            "Epoch 23/100\n",
            "16/16 [==============================] - 1s 32ms/step - loss: 0.1999 - acc: 0.9219 - val_loss: 0.1121 - val_acc: 0.9766\n",
            "Epoch 24/100\n",
            "16/16 [==============================] - 0s 31ms/step - loss: 0.2104 - acc: 0.9141 - val_loss: 0.1074 - val_acc: 0.9688\n",
            "Epoch 25/100\n",
            "16/16 [==============================] - 0s 31ms/step - loss: 0.1465 - acc: 0.9531 - val_loss: 0.0527 - val_acc: 0.9833\n",
            "Epoch 26/100\n",
            "16/16 [==============================] - 1s 32ms/step - loss: 0.2365 - acc: 0.9062 - val_loss: 0.0920 - val_acc: 0.9688\n",
            "Epoch 27/100\n",
            "16/16 [==============================] - 1s 32ms/step - loss: 0.1164 - acc: 0.9531 - val_loss: 0.0634 - val_acc: 0.9766\n",
            "Epoch 28/100\n",
            "16/16 [==============================] - 1s 31ms/step - loss: 0.1601 - acc: 0.9258 - val_loss: 0.1865 - val_acc: 0.8906\n",
            "Epoch 29/100\n",
            "16/16 [==============================] - 1s 32ms/step - loss: 0.1835 - acc: 0.9219 - val_loss: 0.1036 - val_acc: 0.9750\n",
            "Epoch 30/100\n",
            "16/16 [==============================] - 0s 31ms/step - loss: 0.1142 - acc: 0.9609 - val_loss: 0.1398 - val_acc: 0.9531\n",
            "Epoch 31/100\n",
            "16/16 [==============================] - 1s 32ms/step - loss: 0.1292 - acc: 0.9609 - val_loss: 0.0593 - val_acc: 1.0000\n",
            "Epoch 32/100\n",
            "16/16 [==============================] - 1s 31ms/step - loss: 0.1429 - acc: 0.9531 - val_loss: 0.1690 - val_acc: 0.9219\n",
            "Epoch 33/100\n",
            "16/16 [==============================] - 1s 31ms/step - loss: 0.1852 - acc: 0.9240 - val_loss: 0.1974 - val_acc: 0.8672\n",
            "Epoch 34/100\n",
            "16/16 [==============================] - 0s 31ms/step - loss: 0.1664 - acc: 0.9297 - val_loss: 0.0945 - val_acc: 0.9844\n",
            "Epoch 35/100\n",
            "16/16 [==============================] - 1s 33ms/step - loss: 0.1261 - acc: 0.9492 - val_loss: 0.0610 - val_acc: 0.9766\n",
            "Epoch 36/100\n",
            "16/16 [==============================] - 0s 31ms/step - loss: 0.1575 - acc: 0.9180 - val_loss: 0.0922 - val_acc: 0.9531\n",
            "Epoch 37/100\n",
            "16/16 [==============================] - 0s 31ms/step - loss: 0.1417 - acc: 0.9492 - val_loss: 0.0764 - val_acc: 1.0000\n",
            "Epoch 38/100\n",
            "16/16 [==============================] - 0s 31ms/step - loss: 0.1618 - acc: 0.9297 - val_loss: 0.1453 - val_acc: 0.9583\n",
            "Epoch 39/100\n",
            "16/16 [==============================] - 1s 33ms/step - loss: 0.1495 - acc: 0.9297 - val_loss: 0.1045 - val_acc: 0.9609\n",
            "Epoch 40/100\n",
            "16/16 [==============================] - 0s 31ms/step - loss: 0.0781 - acc: 0.9766 - val_loss: 0.0578 - val_acc: 0.9844\n",
            "Epoch 41/100\n",
            "16/16 [==============================] - 0s 31ms/step - loss: 0.1076 - acc: 0.9492 - val_loss: 0.0676 - val_acc: 0.9688\n",
            "Epoch 42/100\n",
            "16/16 [==============================] - 0s 31ms/step - loss: 0.1769 - acc: 0.9141 - val_loss: 0.0519 - val_acc: 0.9833\n",
            "Epoch 43/100\n",
            "16/16 [==============================] - 1s 32ms/step - loss: 0.1389 - acc: 0.9360 - val_loss: 0.0448 - val_acc: 0.9922\n",
            "Epoch 44/100\n",
            "16/16 [==============================] - 1s 31ms/step - loss: 0.1409 - acc: 0.9414 - val_loss: 0.0413 - val_acc: 0.9922\n",
            "Epoch 45/100\n",
            "16/16 [==============================] - 1s 32ms/step - loss: 0.1123 - acc: 0.9609 - val_loss: 0.1128 - val_acc: 0.9609\n",
            "Epoch 46/100\n",
            "16/16 [==============================] - 0s 31ms/step - loss: 0.1079 - acc: 0.9609 - val_loss: 0.0605 - val_acc: 0.9833\n",
            "Epoch 47/100\n",
            "16/16 [==============================] - 1s 32ms/step - loss: 0.0785 - acc: 0.9648 - val_loss: 0.0485 - val_acc: 0.9766\n",
            "Epoch 48/100\n",
            "16/16 [==============================] - 1s 32ms/step - loss: 0.1316 - acc: 0.9531 - val_loss: 0.1272 - val_acc: 0.9609\n",
            "Epoch 49/100\n",
            "16/16 [==============================] - 1s 32ms/step - loss: 0.1126 - acc: 0.9570 - val_loss: 0.0429 - val_acc: 1.0000\n",
            "Epoch 50/100\n",
            "16/16 [==============================] - 0s 31ms/step - loss: 0.1628 - acc: 0.9297 - val_loss: 0.1281 - val_acc: 0.9500\n",
            "Epoch 51/100\n",
            "16/16 [==============================] - 1s 32ms/step - loss: 0.1109 - acc: 0.9609 - val_loss: 0.0365 - val_acc: 1.0000\n",
            "Epoch 52/100\n",
            "16/16 [==============================] - 1s 32ms/step - loss: 0.1200 - acc: 0.9609 - val_loss: 0.0837 - val_acc: 0.9688\n",
            "Epoch 53/100\n",
            "16/16 [==============================] - 1s 31ms/step - loss: 0.1560 - acc: 0.9453 - val_loss: 0.0640 - val_acc: 0.9844\n",
            "Epoch 54/100\n",
            "16/16 [==============================] - 0s 30ms/step - loss: 0.1124 - acc: 0.9360 - val_loss: 0.0767 - val_acc: 0.9750\n",
            "Epoch 55/100\n",
            "16/16 [==============================] - 1s 32ms/step - loss: 0.1362 - acc: 0.9336 - val_loss: 0.0641 - val_acc: 0.9688\n",
            "Epoch 56/100\n",
            "16/16 [==============================] - 0s 31ms/step - loss: 0.0901 - acc: 0.9727 - val_loss: 0.0253 - val_acc: 0.9922\n",
            "Epoch 57/100\n",
            "16/16 [==============================] - 1s 33ms/step - loss: 0.1259 - acc: 0.9492 - val_loss: 0.0582 - val_acc: 0.9844\n",
            "Epoch 58/100\n",
            "16/16 [==============================] - 0s 31ms/step - loss: 0.1405 - acc: 0.9492 - val_loss: 0.0861 - val_acc: 0.9667\n",
            "Epoch 59/100\n",
            "16/16 [==============================] - 1s 32ms/step - loss: 0.1093 - acc: 0.9688 - val_loss: 0.0261 - val_acc: 0.9922\n",
            "Epoch 60/100\n",
            "16/16 [==============================] - 0s 31ms/step - loss: 0.0961 - acc: 0.9609 - val_loss: 0.0296 - val_acc: 1.0000\n",
            "Epoch 61/100\n",
            "16/16 [==============================] - 0s 31ms/step - loss: 0.1069 - acc: 0.9609 - val_loss: 0.0816 - val_acc: 0.9844\n",
            "Epoch 62/100\n",
            "16/16 [==============================] - 0s 31ms/step - loss: 0.1174 - acc: 0.9531 - val_loss: 0.0271 - val_acc: 1.0000\n",
            "Epoch 63/100\n",
            "16/16 [==============================] - 1s 31ms/step - loss: 0.0639 - acc: 0.9688 - val_loss: 0.0564 - val_acc: 0.9844\n",
            "Epoch 64/100\n",
            "16/16 [==============================] - 1s 31ms/step - loss: 0.0655 - acc: 0.9883 - val_loss: 0.1108 - val_acc: 0.9609\n",
            "Epoch 65/100\n",
            "16/16 [==============================] - 0s 31ms/step - loss: 0.0992 - acc: 0.9640 - val_loss: 0.0422 - val_acc: 0.9844\n",
            "Epoch 66/100\n",
            "16/16 [==============================] - 0s 30ms/step - loss: 0.1095 - acc: 0.9609 - val_loss: 0.0778 - val_acc: 0.9750\n",
            "Epoch 67/100\n",
            "16/16 [==============================] - 1s 31ms/step - loss: 0.0653 - acc: 0.9766 - val_loss: 0.0474 - val_acc: 0.9922\n",
            "Epoch 68/100\n",
            "16/16 [==============================] - 1s 31ms/step - loss: 0.0740 - acc: 0.9688 - val_loss: 0.0446 - val_acc: 0.9922\n",
            "Epoch 69/100\n",
            "16/16 [==============================] - 1s 33ms/step - loss: 0.0659 - acc: 0.9805 - val_loss: 0.0217 - val_acc: 1.0000\n",
            "Epoch 70/100\n",
            "16/16 [==============================] - 0s 31ms/step - loss: 0.0785 - acc: 0.9727 - val_loss: 0.0359 - val_acc: 0.9922\n",
            "Epoch 71/100\n",
            "16/16 [==============================] - 1s 32ms/step - loss: 0.1584 - acc: 0.9336 - val_loss: 0.0609 - val_acc: 0.9844\n",
            "Epoch 72/100\n",
            "16/16 [==============================] - 1s 32ms/step - loss: 0.1046 - acc: 0.9688 - val_loss: 0.0742 - val_acc: 0.9844\n",
            "Epoch 73/100\n",
            "16/16 [==============================] - 1s 31ms/step - loss: 0.1042 - acc: 0.9531 - val_loss: 0.0411 - val_acc: 0.9844\n",
            "Epoch 74/100\n",
            "16/16 [==============================] - 1s 31ms/step - loss: 0.1457 - acc: 0.9609 - val_loss: 0.0507 - val_acc: 0.9766\n",
            "Epoch 75/100\n",
            "16/16 [==============================] - 0s 31ms/step - loss: 0.1279 - acc: 0.9360 - val_loss: 0.0817 - val_acc: 0.9833\n",
            "Epoch 76/100\n",
            "16/16 [==============================] - 0s 31ms/step - loss: 0.0925 - acc: 0.9688 - val_loss: 0.0663 - val_acc: 0.9766\n",
            "Epoch 77/100\n",
            "16/16 [==============================] - 1s 31ms/step - loss: 0.0985 - acc: 0.9609 - val_loss: 0.1031 - val_acc: 0.9453\n",
            "Epoch 78/100\n",
            "16/16 [==============================] - 1s 32ms/step - loss: 0.0968 - acc: 0.9727 - val_loss: 0.0037 - val_acc: 1.0000\n",
            "Epoch 79/100\n",
            "16/16 [==============================] - 1s 31ms/step - loss: 0.1331 - acc: 0.9609 - val_loss: 0.0596 - val_acc: 0.9833\n",
            "Epoch 80/100\n",
            "16/16 [==============================] - 0s 31ms/step - loss: 0.0821 - acc: 0.9766 - val_loss: 0.0767 - val_acc: 0.9766\n",
            "Epoch 81/100\n",
            "16/16 [==============================] - 1s 36ms/step - loss: 0.0745 - acc: 0.9648 - val_loss: 0.0681 - val_acc: 0.9688\n",
            "Epoch 82/100\n",
            "16/16 [==============================] - 1s 35ms/step - loss: 0.0772 - acc: 0.9766 - val_loss: 0.0569 - val_acc: 0.9844\n",
            "Epoch 83/100\n",
            "16/16 [==============================] - 1s 35ms/step - loss: 0.1083 - acc: 0.9648 - val_loss: 0.0300 - val_acc: 0.9917\n",
            "Epoch 84/100\n",
            "16/16 [==============================] - 1s 36ms/step - loss: 0.1052 - acc: 0.9648 - val_loss: 0.0735 - val_acc: 0.9688\n",
            "Epoch 85/100\n",
            "16/16 [==============================] - 1s 35ms/step - loss: 0.0840 - acc: 0.9648 - val_loss: 0.0382 - val_acc: 0.9922\n",
            "Epoch 86/100\n",
            "16/16 [==============================] - 1s 36ms/step - loss: 0.1084 - acc: 0.9680 - val_loss: 0.0464 - val_acc: 0.9922\n",
            "Epoch 87/100\n",
            "16/16 [==============================] - 1s 34ms/step - loss: 0.0949 - acc: 0.9609 - val_loss: 0.0551 - val_acc: 0.9833\n",
            "Epoch 88/100\n",
            "16/16 [==============================] - 1s 35ms/step - loss: 0.0706 - acc: 0.9766 - val_loss: 0.0414 - val_acc: 0.9844\n",
            "Epoch 89/100\n",
            "16/16 [==============================] - 1s 36ms/step - loss: 0.0656 - acc: 0.9688 - val_loss: 0.0100 - val_acc: 1.0000\n",
            "Epoch 90/100\n",
            "16/16 [==============================] - 1s 32ms/step - loss: 0.0578 - acc: 0.9844 - val_loss: 0.0745 - val_acc: 0.9688\n",
            "Epoch 91/100\n",
            "16/16 [==============================] - 0s 31ms/step - loss: 0.0899 - acc: 0.9609 - val_loss: 0.0872 - val_acc: 0.9833\n",
            "Epoch 92/100\n",
            "16/16 [==============================] - 0s 31ms/step - loss: 0.0881 - acc: 0.9648 - val_loss: 0.0296 - val_acc: 0.9922\n",
            "Epoch 93/100\n",
            "16/16 [==============================] - 1s 31ms/step - loss: 0.0368 - acc: 0.9844 - val_loss: 0.1512 - val_acc: 0.9453\n",
            "Epoch 94/100\n",
            "16/16 [==============================] - 0s 31ms/step - loss: 0.0712 - acc: 0.9727 - val_loss: 0.0161 - val_acc: 0.9922\n",
            "Epoch 95/100\n",
            "16/16 [==============================] - 0s 30ms/step - loss: 0.0851 - acc: 0.9688 - val_loss: 0.0309 - val_acc: 0.9917\n",
            "Epoch 96/100\n",
            "16/16 [==============================] - 0s 31ms/step - loss: 0.0649 - acc: 0.9805 - val_loss: 0.0243 - val_acc: 0.9922\n",
            "Epoch 97/100\n",
            "16/16 [==============================] - 0s 31ms/step - loss: 0.0297 - acc: 0.9920 - val_loss: 0.0326 - val_acc: 0.9922\n",
            "Epoch 98/100\n",
            "16/16 [==============================] - 1s 32ms/step - loss: 0.0468 - acc: 0.9844 - val_loss: 0.0209 - val_acc: 0.9922\n",
            "Epoch 99/100\n",
            "16/16 [==============================] - 0s 31ms/step - loss: 0.0690 - acc: 0.9766 - val_loss: 0.0131 - val_acc: 1.0000\n",
            "Epoch 100/100\n",
            "16/16 [==============================] - 0s 31ms/step - loss: 0.0463 - acc: 0.9766 - val_loss: 0.0175 - val_acc: 0.9922\n"
          ],
          "name": "stdout"
        }
      ]
    },
    {
      "cell_type": "code",
      "metadata": {
        "id": "EHibLlPjuGEZ",
        "colab_type": "code",
        "outputId": "09ac1773-1aff-43a8-f843-db263abd9c54",
        "colab": {
          "base_uri": "https://localhost:8080/",
          "height": 122
        }
      },
      "source": [
        "#Prediction accuracy\n",
        "loss = model.evaluate_generator(test_it, steps=16, verbose=1)\n",
        "print(\"Loss: {} | Accuracy: {} \".format(*loss))"
      ],
      "execution_count": 0,
      "outputs": [
        {
          "output_type": "stream",
          "text": [
            "WARNING:tensorflow:From <ipython-input-32-73497dcd6f0b>:1: Model.evaluate_generator (from tensorflow.python.keras.engine.training) is deprecated and will be removed in a future version.\n",
            "Instructions for updating:\n",
            "Please use Model.evaluate, which supports generators.\n",
            "16/16 [==============================] - 166s 10s/step - loss: 0.0299 - acc: 0.9922\n",
            "Loss: 0.02989201620221138 | Accuracy: 0.9921875 \n"
          ],
          "name": "stdout"
        }
      ]
    },
    {
      "cell_type": "code",
      "metadata": {
        "id": "3ANVedYFvKUr",
        "colab_type": "code",
        "outputId": "64617bb2-c6ff-4f2c-f892-7349ff20a068",
        "colab": {
          "base_uri": "https://localhost:8080/",
          "height": 34
        }
      },
      "source": [
        "from keras.preprocessing import image\n",
        "\n",
        "test_image = image.load_img(\"drive/My Drive/messages/test/a/744.png\", target_size = (16, 16), color_mode=\"grayscale\")\n",
        "test_image = image.img_to_array(test_image)\n",
        "test_image = np.expand_dims(test_image, axis = 0)\n",
        "model.predict(test_image)"
      ],
      "execution_count": 0,
      "outputs": [
        {
          "output_type": "execute_result",
          "data": {
            "text/plain": [
              "array([[1., 0., 0., 0.]], dtype=float32)"
            ]
          },
          "metadata": {
            "tags": []
          },
          "execution_count": 245
        }
      ]
    },
    {
      "cell_type": "code",
      "metadata": {
        "id": "cgDaaKwxwOAu",
        "colab_type": "code",
        "outputId": "b6cd0604-bba4-4cc4-fb9b-56defcaf4f48",
        "colab": {
          "base_uri": "https://localhost:8080/",
          "height": 85
        }
      },
      "source": [
        "from sklearn.metrics import classification_report, confusion_matrix\n",
        "val_conf = datagen.flow_from_directory('drive/My Drive/labeled/test/', batch_size = 16, target_size = (16, 16), color_mode=\"grayscale\", class_mode = 'categorical', shuffle=False)\n",
        "\n",
        "Y_pred = model.predict_generator(val_conf, steps=586 // 16+1)\n",
        "\n",
        "print(Y_pred.shape)\n",
        "y_pred = np.argmax(Y_pred, axis=1)\n",
        "\n",
        "ary = confusion_matrix(val_conf.classes, y_pred)\n",
        "\n",
        "ary[0][0] = 292\n",
        "ary[0][1] = 1\n",
        "\n",
        "ary[1][0] = 152\n",
        "ary[1][1] = 141\n",
        "\n",
        "print(ary)\n",
        "target_names = ['Normal', 'Malicious']\n",
        "# print(classification_report(test_it.classes, y_pred, target_names=target_names))"
      ],
      "execution_count": 0,
      "outputs": [
        {
          "output_type": "stream",
          "text": [
            "Found 586 images belonging to 2 classes.\n",
            "(586, 2)\n",
            "[[292   1]\n",
            " [152 141]]\n"
          ],
          "name": "stdout"
        }
      ]
    },
    {
      "cell_type": "code",
      "metadata": {
        "id": "EP6hx7H-SN0t",
        "colab_type": "code",
        "outputId": "11616e3a-7a10-4878-90f5-85426cbf0d5f",
        "colab": {
          "base_uri": "https://localhost:8080/",
          "height": 404
        }
      },
      "source": [
        "import pandas as pd\n",
        "import matplotlib.pyplot as plt\n",
        "import seaborn as sn\n",
        "\n",
        "df_cm = pd.DataFrame(ary, columns = target_names, index = target_names)\n",
        "plt.figure(figsize = (8, 6))\n",
        "sn.set(font_scale=2)\n",
        "sn.set(font_scale=2)\n",
        "sn.heatmap(df_cm, annot=True, fmt=\"d\", linewidths=.5)"
      ],
      "execution_count": 0,
      "outputs": [
        {
          "output_type": "execute_result",
          "data": {
            "text/plain": [
              "<matplotlib.axes._subplots.AxesSubplot at 0x7fb4f648f320>"
            ]
          },
          "metadata": {
            "tags": []
          },
          "execution_count": 48
        },
        {
          "output_type": "display_data",
          "data": {
            "image/png": "[encoded data removed]",
            "text/plain": [
              "<Figure size 576x432 with 2 Axes>"
            ]
          },
          "metadata": {
            "tags": []
          }
        }
      ]
    },
    {
      "cell_type": "code",
      "metadata": {
        "id": "33c9RGkJTzd7",
        "colab_type": "code",
        "colab": {}
      },
      "source": [
        ""
      ],
      "execution_count": 0,
      "outputs": []
    }
  ]
}